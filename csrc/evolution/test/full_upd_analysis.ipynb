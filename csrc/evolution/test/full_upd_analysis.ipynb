{
 "cells": [
  {
   "cell_type": "code",
   "execution_count": 1,
   "id": "8edbb175-7924-4b21-80f5-13c248dca9ad",
   "metadata": {},
   "outputs": [],
   "source": [
    "import torch\n",
    "from torch import einsum\n",
    "from acetn.evolution.full_update import *\n",
    "from acetn.ipeps.ipeps_config import EvolutionConfig"
   ]
  },
  {
   "cell_type": "code",
   "execution_count": 2,
   "id": "6fe6da88-cad7-44d1-b8f4-e0dc3604c3ce",
   "metadata": {},
   "outputs": [],
   "source": [
    "import matplotlib.pyplot as plt\n",
    "plt.rcParams.update({\n",
    "    'font.size': 20,\n",
    "    'axes.titlesize': 20,\n",
    "    'axes.labelsize': 20,\n",
    "    'xtick.labelsize': 20,\n",
    "    'ytick.labelsize': 20,\n",
    "    'legend.fontsize': 16,\n",
    "    'figure.titlesize': 20,\n",
    "})"
   ]
  },
  {
   "cell_type": "markdown",
   "id": "ebee8647-79cc-4368-b796-b9d43a1be98d",
   "metadata": {},
   "source": [
    "## Setup Heisenberg model iPEPS"
   ]
  },
  {
   "cell_type": "code",
   "execution_count": 3,
   "id": "30a0eadc-4762-432a-b3a8-7f396f1ef719",
   "metadata": {},
   "outputs": [],
   "source": [
    "from acetn.ipeps import Ipeps\n",
    "from acetn.evolution.gate import Gate\n",
    "from acetn.model.model_factory import model_factory\n",
    "\n",
    "def setup_ipeps_and_gate(dtau):\n",
    "    config = {'dtype': \"float64\",\n",
    "              'device': \"cuda\",\n",
    "              'TN': {'nx':2, 'ny':2, 'dims':{'phys':2, 'bond':4, 'chi':16}}, \n",
    "              'model': {'name':'heisenberg', 'params':{'J':1.0}},\n",
    "              }\n",
    "    ipeps = Ipeps(config)\n",
    "    model = model_factory.create(ipeps.config.model)\n",
    "    gate = Gate(model, dtau, ipeps.bond_list, ipeps.site_list)\n",
    "\n",
    "    class EvolutionConfig:\n",
    "        backend = \"cutensor\"\n",
    "        tensor_solver = \"als\"\n",
    "        als_niter = 100\n",
    "        als_tol = 1e-15\n",
    "        als_method = \"cholesky\"\n",
    "        als_epsilon = 1e-12\n",
    "        use_gauge_fix = True\n",
    "        gauge_fix_atol = 1e-12\n",
    "        positive_approx_cutoff = 1e-12\n",
    "    evolution_config = EvolutionConfig()\n",
    "\n",
    "    return ipeps, gate, evolution_config"
   ]
  },
  {
   "cell_type": "code",
   "execution_count": 4,
   "id": "68105c72-916a-480b-af43-16c2e0d7cb4f",
   "metadata": {},
   "outputs": [
    {
     "name": "stdout",
     "output_type": "stream",
     "text": [
      "Starting iPEPS calculation with config:\n",
      "----------------------------------------\n",
      "dtype = \"float64\"\n",
      "device = \"cuda\"\n",
      "\n",
      "[TN]\n",
      "nx = 2\n",
      "ny = 2\n",
      "\n",
      "[model]\n",
      "name = \"heisenberg\"\n",
      "\n",
      "[TN.dims]\n",
      "phys = 2\n",
      "bond = 4\n",
      "chi = 16\n",
      "\n",
      "[model.params]\n",
      "J = 1.0\n",
      "----------------------------------------\n",
      "Initializing iPEPS...\n"
     ]
    }
   ],
   "source": [
    "from acetn.evolution.full_update import *\n",
    "dtau = 0.1\n",
    "ipeps, gate, config = setup_ipeps_and_gate(dtau=dtau)"
   ]
  },
  {
   "cell_type": "markdown",
   "id": "f4723c23-3011-415c-ba49-6bcea36662a4",
   "metadata": {},
   "source": [
    "## Evolve 10 steps"
   ]
  },
  {
   "cell_type": "code",
   "execution_count": 5,
   "id": "eadf0b3e-80e8-4902-92d3-92092a045e52",
   "metadata": {},
   "outputs": [
    {
     "name": "stdout",
     "output_type": "stream",
     "text": [
      "Start imaginary-time evolution with dtau=0.1...\n",
      "Bond dimensions:\n",
      "(D, chi): (4, 16)\n",
      "Model parameters:\n",
      "J: 1.0\n"
     ]
    },
    {
     "name": "stderr",
     "output_type": "stream",
     "text": [
      "Renormalizing boundary tensors: 40 sweeps [00:03, 11.42 sweeps/s]\n",
      "Updating tensors: 100%|███████████████████████████████████████████████████████████████████████████████████████████████████████████████████████████████| 10/10 [00:03<00:00,  2.92it/s]\n"
     ]
    },
    {
     "name": "stdout",
     "output_type": "stream",
     "text": [
      "Finished imaginary-time evolution\n",
      "Total runtime: 3.426576 seconds\n"
     ]
    },
    {
     "name": "stderr",
     "output_type": "stream",
     "text": [
      "Renormalizing boundary tensors: 40 sweeps [00:03, 10.34 sweeps/s]\n"
     ]
    },
    {
     "name": "stdout",
     "output_type": "stream",
     "text": [
      "Calculated one-site measurements:\n",
      "site\tsx        \tsz        \n",
      "(0, 0)\t0.00338781\t0.78383583\n",
      "(0, 1)\t-0.00037897\t0.78384182\n",
      "(1, 0)\t0.00038051\t0.78384301\n",
      "(1, 1)\t0.00188498\t0.78383960\n",
      "Measurement averages:\n",
      "Energy: -0.6638725534631091\n",
      "sx: 0.0013185804164119598\n",
      "sz: 0.783840064564953\n"
     ]
    },
    {
     "data": {
      "text/plain": [
       "{'Energy': tensor(-0.6639, device='cuda:0', dtype=torch.float64),\n",
       " 'sx': tensor(0.0013, device='cuda:0', dtype=torch.float64),\n",
       " 'sz': tensor(0.7838, device='cuda:0', dtype=torch.float64)}"
      ]
     },
     "execution_count": 5,
     "metadata": {},
     "output_type": "execute_result"
    }
   ],
   "source": [
    "ipeps.evolve(steps=10, dtau=dtau)\n",
    "ipeps.measure()"
   ]
  },
  {
   "cell_type": "markdown",
   "id": "ab6231cd-2184-42be-8a01-6a54f214a5db",
   "metadata": {},
   "source": [
    "## Function for calculating norm tensor condition number"
   ]
  },
  {
   "cell_type": "code",
   "execution_count": 6,
   "id": "b453b29a-f0d3-4718-a542-0be93f30fd4e",
   "metadata": {},
   "outputs": [],
   "source": [
    "def condition_number(n12):\n",
    "    nD = n12.shape[0]\n",
    "    U, S, Vh = torch.linalg.svd(n12.reshape(nD**2, nD**2))\n",
    "    cond_number = S.max() / S.min()\n",
    "    return cond_number.item()"
   ]
  },
  {
   "cell_type": "markdown",
   "id": "2f7c4d34-046e-4d3a-8f83-97307b17377c",
   "metadata": {},
   "source": [
    "## Initialize Norm Tensor"
   ]
  },
  {
   "cell_type": "code",
   "execution_count": 7,
   "id": "211eb4d2-019d-4357-9c64-ee11ce3ac121",
   "metadata": {},
   "outputs": [
    {
     "name": "stdout",
     "output_type": "stream",
     "text": [
      "Initial condition_number:\n",
      "k(n12): 3623787.3888083794\n"
     ]
    }
   ],
   "source": [
    "dtau = 0.01\n",
    "\n",
    "model = model_factory.create(ipeps.config.model)\n",
    "gate = Gate(model, dtau, ipeps.bond_list, ipeps.site_list)\n",
    "full_updater = FullUpdater(ipeps, gate, config)\n",
    "\n",
    "bond = [(0, 0), (0, 1), 2]\n",
    "s1,s2,k = bond\n",
    "a1 = ipeps[s1]['A']\n",
    "a2 = ipeps[s2]['A']\n",
    "a1,a2 = full_updater.permute_bond_tensors(a1, a2, k)\n",
    "\n",
    "pD = ipeps.dims[\"phys\"]\n",
    "bD = ipeps.dims[\"bond\"]\n",
    "\n",
    "a1q,a1r,a2q,a2r = full_updater.decompose_site_tensors(a1, a2)\n",
    "n12 = full_updater.build_norm_tensor(ipeps, bond, a1q, a2q)\n",
    "\n",
    "gate = full_updater.gate[bond]\n",
    "\n",
    "a12g = einsum(\"yup,xuq->ypxq\", a1r, a2r)\n",
    "a12g = einsum(\"ypxq,pqrs->yxrs\", a12g, gate)\n",
    "\n",
    "print(\"Initial condition_number:\")\n",
    "print(\"k(n12):\", condition_number(n12))"
   ]
  },
  {
   "cell_type": "markdown",
   "id": "454d118c-b783-4ba8-afdc-9fbf730549f2",
   "metadata": {},
   "source": [
    "## Enforce Norm Tensor Hermitian"
   ]
  },
  {
   "cell_type": "code",
   "execution_count": 8,
   "id": "30af2424-4a7e-4b96-b07e-b5db09349a58",
   "metadata": {},
   "outputs": [
    {
     "name": "stdout",
     "output_type": "stream",
     "text": [
      "condition_number after enforcing Hermitian:\n",
      "k(n12_mH): 3623737.1274476512\n"
     ]
    }
   ],
   "source": [
    "n12_mH = 0.5*(n12 + einsum(\"yxYX->YXyx\", conj(n12)))\n",
    "print(\"condition_number after enforcing Hermitian:\")\n",
    "print(\"k(n12_mH):\", condition_number(n12_mH))"
   ]
  },
  {
   "cell_type": "markdown",
   "id": "9c8f0c4e-e3f9-4a69-935d-a75f20526389",
   "metadata": {},
   "source": [
    "## Positive Approximation (Standard)"
   ]
  },
  {
   "cell_type": "code",
   "execution_count": 9,
   "id": "ab5286a3-33b7-48f8-954f-bd41f634d4ae",
   "metadata": {},
   "outputs": [
    {
     "name": "stdout",
     "output_type": "stream",
     "text": [
      "Eigenvalues before positive approx:\n",
      "tensor([-1.6573e-05, -9.5008e-06, -7.3842e-06, -4.3948e-06, -3.8926e-06,\n",
      "        -1.8858e-06, -6.8763e-07, -6.0221e-07, -3.3258e-07, -2.3969e-07,\n",
      "        -1.7324e-07, -1.5138e-07, -2.6325e-08,  5.6727e-08,  3.7457e-07,\n",
      "         6.4188e-07,  8.3149e-07,  1.0577e-06,  2.0594e-06,  2.6309e-06,\n",
      "         3.8372e-06,  4.3960e-06,  4.8566e-06,  5.6721e-06,  8.1178e-06,\n",
      "         1.0475e-05,  1.3988e-05,  1.5666e-05,  1.6528e-05,  1.9533e-05,\n",
      "         2.0086e-05,  2.4023e-05,  2.5421e-05,  2.8619e-05,  3.3072e-05,\n",
      "         5.1397e-05,  5.9516e-05,  6.3762e-05,  7.2647e-05,  7.4307e-05,\n",
      "         1.0566e-04,  1.1787e-04,  1.2181e-04,  1.4738e-04,  1.5241e-04,\n",
      "         1.6129e-04,  1.8659e-04,  2.1045e-04,  2.5873e-04,  4.2135e-04,\n",
      "         4.4471e-04,  5.0768e-04,  5.6384e-04,  9.2290e-04,  9.3646e-04,\n",
      "         1.0876e-03,  1.7933e-03,  2.2649e-03,  2.4208e-03,  3.0823e-03,\n",
      "         1.0027e-02,  1.6639e-02,  1.7026e-02,  9.5393e-02], device='cuda:0',\n",
      "       dtype=torch.float64)\n",
      "Eigenvalues after positive approx and square root:\n",
      "tensor([0.0000e+00, 0.0000e+00, 0.0000e+00, 0.0000e+00, 0.0000e+00, 0.0000e+00,\n",
      "        0.0000e+00, 0.0000e+00, 0.0000e+00, 0.0000e+00, 0.0000e+00, 0.0000e+00,\n",
      "        0.0000e+00, 2.3817e-04, 6.1202e-04, 8.0117e-04, 9.1186e-04, 1.0285e-03,\n",
      "        1.4350e-03, 1.6220e-03, 1.9589e-03, 2.0967e-03, 2.2038e-03, 2.3816e-03,\n",
      "        2.8492e-03, 3.2365e-03, 3.7400e-03, 3.9580e-03, 4.0654e-03, 4.4196e-03,\n",
      "        4.4818e-03, 4.9013e-03, 5.0419e-03, 5.3497e-03, 5.7508e-03, 7.1692e-03,\n",
      "        7.7147e-03, 7.9851e-03, 8.5233e-03, 8.6202e-03, 1.0279e-02, 1.0857e-02,\n",
      "        1.1037e-02, 1.2140e-02, 1.2345e-02, 1.2700e-02, 1.3660e-02, 1.4507e-02,\n",
      "        1.6085e-02, 2.0527e-02, 2.1088e-02, 2.2532e-02, 2.3745e-02, 3.0379e-02,\n",
      "        3.0602e-02, 3.2978e-02, 4.2347e-02, 4.7591e-02, 4.9202e-02, 5.5518e-02,\n",
      "        1.0014e-01, 1.2899e-01, 1.3048e-01, 3.0886e-01], device='cuda:0',\n",
      "       dtype=torch.float64)\n",
      "----------------------------------------\n",
      "condition_number before positive approx:\n",
      "k(n12_mH): 3623737.1274476512\n",
      "condition_number after positive approx:\n",
      "k(n12_pa): 5.202359471286188e+18\n"
     ]
    }
   ],
   "source": [
    "nD = n12.shape[0]\n",
    "nw, nz = torch.linalg.eigh(n12_mH.reshape(nD**2, nD**2))\n",
    "\n",
    "print(\"Eigenvalues before positive approx:\")\n",
    "print(nw)\n",
    "nw = torch.where(nw > 0, torch.sqrt(nw), 0)\n",
    "print(\"Eigenvalues after positive approx and square root:\")\n",
    "print(nw)\n",
    "\n",
    "nz = nz.reshape(nD, nD, nD**2)*torch.sqrt(nw)\n",
    "n12_pa = einsum(\"xyz,XYz->xyXY\", nz, conj(nz))\n",
    "\n",
    "print(\"----------------------------------------\")\n",
    "print(\"condition_number before positive approx:\")\n",
    "print(\"k(n12_mH):\", condition_number(n12_mH))\n",
    "print(\"condition_number after positive approx:\")\n",
    "print(\"k(n12_pa):\", condition_number(n12_pa))"
   ]
  },
  {
   "cell_type": "markdown",
   "id": "431ad8c5-a0ac-4c63-9712-592d5fd385c7",
   "metadata": {},
   "source": [
    "## Gauge Fixing"
   ]
  },
  {
   "cell_type": "code",
   "execution_count": 10,
   "id": "be054c7c-07c6-4693-bd55-a41f21613625",
   "metadata": {},
   "outputs": [
    {
     "name": "stdout",
     "output_type": "stream",
     "text": [
      "condition_number after gauge fixing:\n",
      "k(n12_pa): 5.4439781689804264e+16\n"
     ]
    }
   ],
   "source": [
    "n12_gf,*_ = gauge_fix(nz, a12g, atol=1e-12)\n",
    "print(\"condition_number after gauge fixing:\")\n",
    "print(\"k(n12_pa):\", condition_number(n12_gf))"
   ]
  },
  {
   "cell_type": "markdown",
   "id": "01fafc46-4d03-46a7-a930-7f770d1e8f72",
   "metadata": {},
   "source": [
    "## Positive Approximation (Dynamic Regularization)"
   ]
  },
  {
   "cell_type": "code",
   "execution_count": 11,
   "id": "b9635a3b-6802-4a16-b953-eb2bfbf9d697",
   "metadata": {},
   "outputs": [
    {
     "name": "stdout",
     "output_type": "stream",
     "text": [
      "Eigenvalues before positive approx:\n",
      "tensor([-1.6573e-05, -9.5008e-06, -7.3842e-06, -4.3948e-06, -3.8926e-06,\n",
      "        -1.8858e-06, -6.8763e-07, -6.0221e-07, -3.3258e-07, -2.3969e-07,\n",
      "        -1.7324e-07, -1.5138e-07, -2.6325e-08,  5.6727e-08,  3.7457e-07,\n",
      "         6.4188e-07,  8.3149e-07,  1.0577e-06,  2.0594e-06,  2.6309e-06,\n",
      "         3.8372e-06,  4.3960e-06,  4.8566e-06,  5.6721e-06,  8.1178e-06,\n",
      "         1.0475e-05,  1.3988e-05,  1.5666e-05,  1.6528e-05,  1.9533e-05,\n",
      "         2.0086e-05,  2.4023e-05,  2.5421e-05,  2.8619e-05,  3.3072e-05,\n",
      "         5.1397e-05,  5.9516e-05,  6.3762e-05,  7.2647e-05,  7.4307e-05,\n",
      "         1.0566e-04,  1.1787e-04,  1.2181e-04,  1.4738e-04,  1.5241e-04,\n",
      "         1.6129e-04,  1.8659e-04,  2.1045e-04,  2.5873e-04,  4.2135e-04,\n",
      "         4.4471e-04,  5.0768e-04,  5.6384e-04,  9.2290e-04,  9.3646e-04,\n",
      "         1.0876e-03,  1.7933e-03,  2.2649e-03,  2.4208e-03,  3.0823e-03,\n",
      "         1.0027e-02,  1.6639e-02,  1.7026e-02,  9.5393e-02], device='cuda:0',\n",
      "       dtype=torch.float64)\n",
      "Eigenvalues after positive approx:\n",
      "tensor([1.6573e-05, 2.3645e-05, 2.5762e-05, 2.8751e-05, 2.9254e-05, 3.1260e-05,\n",
      "        3.2458e-05, 3.2544e-05, 3.2814e-05, 3.2906e-05, 3.2973e-05, 3.2995e-05,\n",
      "        3.3120e-05, 3.3203e-05, 3.3521e-05, 3.3788e-05, 3.3978e-05, 3.4204e-05,\n",
      "        3.5205e-05, 3.5777e-05, 3.6983e-05, 3.7542e-05, 3.8003e-05, 3.8818e-05,\n",
      "        4.1264e-05, 4.3621e-05, 4.7134e-05, 4.8812e-05, 4.9674e-05, 5.2679e-05,\n",
      "        5.3232e-05, 5.7169e-05, 5.8567e-05, 6.1765e-05, 6.6218e-05, 8.4543e-05,\n",
      "        9.2662e-05, 9.6908e-05, 1.0579e-04, 1.0745e-04, 1.3881e-04, 1.5102e-04,\n",
      "        1.5495e-04, 1.8052e-04, 1.8555e-04, 1.9444e-04, 2.1973e-04, 2.4360e-04,\n",
      "        2.9188e-04, 4.5450e-04, 4.7785e-04, 5.4082e-04, 5.9698e-04, 9.5604e-04,\n",
      "        9.6960e-04, 1.1207e-03, 1.8265e-03, 2.2981e-03, 2.4540e-03, 3.1154e-03,\n",
      "        1.0060e-02, 1.6672e-02, 1.7059e-02, 9.5426e-02], device='cuda:0',\n",
      "       dtype=torch.float64)\n",
      "----------------------------------------\n",
      "condition_number before positive approx:\n",
      "k(n12_mH): 3623737.1274476512\n",
      "condition_number after positive approx:\n",
      "k(n12_pa): 5757.915631563158\n"
     ]
    }
   ],
   "source": [
    "N = n12_mH.reshape(nD**2, nD**2)\n",
    "nw, nz = torch.linalg.eigh(N)\n",
    "\n",
    "print(\"Eigenvalues before positive approx:\")\n",
    "print(nw)\n",
    "\n",
    "# Positive approx from dynamic regularization\n",
    "cutoff = 1e-12\n",
    "while nw[0] < cutoff:\n",
    "    N += 2*max(cutoff, abs(nw[0]))*torch.eye(nD**2, dtype=N.dtype, device=N.device)\n",
    "    nw,nz = eigh(N)\n",
    "nz = nz.reshape(nD, nD, nD**2)*torch.sqrt(nw)\n",
    "\n",
    "print(\"Eigenvalues after positive approx:\")\n",
    "print(nw)\n",
    "\n",
    "n12_pa = einsum(\"xyz,XYz->xyXY\", nz, conj(nz))\n",
    "\n",
    "print(\"----------------------------------------\")\n",
    "print(\"condition_number before positive approx:\")\n",
    "print(\"k(n12_mH):\", condition_number(n12_mH))\n",
    "print(\"condition_number after positive approx:\")\n",
    "print(\"k(n12_pa):\", condition_number(n12_pa))"
   ]
  },
  {
   "cell_type": "code",
   "execution_count": 12,
   "id": "032e7609-6d49-4633-9ccf-50d5115b5614",
   "metadata": {},
   "outputs": [
    {
     "name": "stdout",
     "output_type": "stream",
     "text": [
      "condition_number after gauge fixing:\n",
      "k(n12_pa): 221.34676830009437\n"
     ]
    }
   ],
   "source": [
    "n12_gf,*_ = gauge_fix(nz, a12g, atol=1e-12)\n",
    "print(\"condition_number after gauge fixing:\")\n",
    "print(\"k(n12_pa):\", condition_number(n12_gf))"
   ]
  },
  {
   "cell_type": "markdown",
   "id": "21eee764-b60a-4237-91f9-e184494cf815",
   "metadata": {},
   "source": [
    "# Testing ALS convergence"
   ]
  },
  {
   "cell_type": "code",
   "execution_count": 13,
   "id": "0b6939c2-c35a-44f3-985b-dc5b7297f37d",
   "metadata": {},
   "outputs": [],
   "source": [
    "import sys\n",
    "sys.path.append(\"..\")\n",
    "from als_solver import torch_calculate_cost\n",
    "\n",
    "a12g = a12g.permute(3, 2, 1, 0).contiguous().permute(3, 2, 1, 0)\n",
    "n12_gf = n12_gf.permute(3, 2, 1, 0).contiguous().permute(3, 2, 1, 0)\n",
    "\n",
    "def calculate_iter_error(solver, niter):\n",
    "    solver.niter=niter-1\n",
    "    a1r, a2r = solver.solve()\n",
    "    d1 = abs(solver.calculate_cost(a1r, a2r, a12g, n12_gf))\n",
    "    d1_torch = abs(torch_calculate_cost(a1r, a2r, a12g, n12_gf))\n",
    "    assert torch.allclose(d1, d1_torch, rtol=1e-15, atol=1e-15)\n",
    "\n",
    "    solver.niter=niter\n",
    "    a1r, a2r = solver.solve()\n",
    "    d2 = abs(solver.calculate_cost(a1r, a2r, a12g, n12_gf))\n",
    "    d2_torch = abs(torch_calculate_cost(a1r, a2r, a12g, n12_gf))\n",
    "    assert torch.allclose(d2, d2_torch, rtol=1e-15, atol=1e-15)\n",
    "\n",
    "    error = abs(d2 - d1)/abs(d1)\n",
    "    return error.cpu()"
   ]
  },
  {
   "cell_type": "code",
   "execution_count": 14,
   "id": "910a88c7-cb3f-4397-9e02-f7f724f0a58e",
   "metadata": {
    "scrolled": true
   },
   "outputs": [],
   "source": [
    "from als_solver import ALSSolver\n",
    "solver = ALSSolver(n12_gf, a12g, bD, pD, nD, config)\n",
    "\n",
    "errors = []\n",
    "for niter in range(1,50):\n",
    "    error = calculate_iter_error(solver, niter)\n",
    "    errors.append(abs(error))"
   ]
  },
  {
   "cell_type": "code",
   "execution_count": 15,
   "id": "81a4b636-9e58-4cb9-a3cf-a7b9cb432f28",
   "metadata": {},
   "outputs": [
    {
     "data": {
      "image/png": "[encoded data removed]",
      "text/plain": [
       "<Figure size 640x480 with 1 Axes>"
      ]
     },
     "metadata": {},
     "output_type": "display_data"
    }
   ],
   "source": [
    "plt.plot(errors, \"-ob\")\n",
    "plt.yscale(\"log\")\n",
    "plt.xlim([0,25])\n",
    "\n",
    "plt.title(\"ALS Iteration Error\")\n",
    "plt.ylabel(\"Error\")\n",
    "plt.xlabel(\"Iteration\")\n",
    "\n",
    "plt.show()"
   ]
  }
 ],
 "metadata": {
  "kernelspec": {
   "display_name": "Python 3 (ipykernel)",
   "language": "python",
   "name": "python3"
  },
  "language_info": {
   "codemirror_mode": {
    "name": "ipython",
    "version": 3
   },
   "file_extension": ".py",
   "mimetype": "text/x-python",
   "name": "python",
   "nbconvert_exporter": "python",
   "pygments_lexer": "ipython3",
   "version": "3.10.12"
  }
 },
 "nbformat": 4,
 "nbformat_minor": 5
}
